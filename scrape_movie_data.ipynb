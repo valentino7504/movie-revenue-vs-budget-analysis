{
 "cells": [
  {
   "cell_type": "code",
   "execution_count": 2,
   "id": "a10b2e88-7463-4e2c-96b1-da86d31aa9dc",
   "metadata": {
    "tags": []
   },
   "outputs": [],
   "source": [
    "import requests\n",
    "import pandas as pd\n",
    "from bs4 import BeautifulSoup"
   ]
  },
  {
   "cell_type": "code",
   "execution_count": 2,
   "id": "b9fd185e-db3a-445c-aef1-064558c2952b",
   "metadata": {
    "tags": []
   },
   "outputs": [],
   "source": [
    "url = \"https://www.the-numbers.com/movie/budgets/all\"\n",
    "data = []\n",
    "url_headers = MY_BROWSER_USER_AGENT"
   ]
  },
  {
   "cell_type": "code",
   "execution_count": 7,
   "id": "81dba4b3-47fd-4025-8990-da2328247f01",
   "metadata": {
    "tags": []
   },
   "outputs": [],
   "source": [
    "while True:\n",
    "    html = requests.get(url, headers = url_headers, timeout = None)\n",
    "    soup = BeautifulSoup(html.text, \"html.parser\")\n",
    "    data.append(pd.read_html(soup.select_one(\"table\").prettify())[0])\n",
    "    if soup.select_one(\"a.active + a\"):\n",
    "        url = f'https://www.the-numbers.com{soup.select_one(\"a.active + a\")[\"href\"]}'\n",
    "    else:\n",
    "        break"
   ]
  },
  {
   "cell_type": "code",
   "execution_count": 11,
   "id": "c3e84ed4-d4ef-447a-b79c-8b92dea73621",
   "metadata": {},
   "outputs": [],
   "source": [
    "df = pd.concat(data)"
   ]
  },
  {
   "cell_type": "code",
   "execution_count": 12,
   "id": "94cf943c-23e7-4355-a132-20d68bfa50e0",
   "metadata": {
    "tags": []
   },
   "outputs": [],
   "source": [
    "df.to_csv(\"cost_revenue_dirty.csv\", index = False)"
   ]
  }
 ],
 "metadata": {
  "kernelspec": {
   "display_name": "Python 3 (ipykernel)",
   "language": "python",
   "name": "python3"
  },
  "language_info": {
   "codemirror_mode": {
    "name": "ipython",
    "version": 3
   },
   "file_extension": ".py",
   "mimetype": "text/x-python",
   "name": "python",
   "nbconvert_exporter": "python",
   "pygments_lexer": "ipython3",
   "version": "3.11.0"
  }
 },
 "nbformat": 4,
 "nbformat_minor": 5
}
